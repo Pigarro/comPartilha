{
 "cells": [
  {
   "cell_type": "code",
   "execution_count": 2,
   "metadata": {},
   "outputs": [
    {
     "name": "stdout",
     "output_type": "stream",
     "text": [
      "['Paraná', 'Santa Catarina']\n"
     ]
    }
   ],
   "source": [
    "states_of_brazil = [\"Paraná\", \"Santa Catarina\"]\n",
    "print(states_of_brazil)"
   ]
  },
  {
   "cell_type": "code",
   "execution_count": 3,
   "metadata": {},
   "outputs": [
    {
     "name": "stdout",
     "output_type": "stream",
     "text": [
      "['Paraná', 'Santa Catarina', 'Rio Grande do Sul']\n"
     ]
    }
   ],
   "source": [
    "states_of_brazil.append(\"Rio Grande do Sul\")\n",
    "print(states_of_brazil)"
   ]
  },
  {
   "cell_type": "code",
   "execution_count": 6,
   "metadata": {},
   "outputs": [
    {
     "name": "stdout",
     "output_type": "stream",
     "text": [
      "Rio Grande do Sul\n",
      "Santa Catarina\n"
     ]
    }
   ],
   "source": [
    "print(states_of_brazil[2])\n",
    "print(states_of_brazil[-2])"
   ]
  },
  {
   "cell_type": "code",
   "execution_count": 8,
   "metadata": {},
   "outputs": [
    {
     "name": "stdout",
     "output_type": "stream",
     "text": [
      "['Paraná', 'Santa Catarina', 'Rio Grande do Sul', 'São Paulo', 'Rio de Janeiro', 'Espírito Santo']\n"
     ]
    }
   ],
   "source": [
    "states_of_brazil.extend([\"São Paulo\", \"Rio de Janeiro\", \"Espírito Santo\"])\n",
    "print(states_of_brazil)"
   ]
  },
  {
   "cell_type": "code",
   "execution_count": 10,
   "metadata": {},
   "outputs": [
    {
     "name": "stdout",
     "output_type": "stream",
     "text": [
      "[['Morangos', 'Nectarinas', 'Maças', 'Uvas', 'Pêssegos', 'Cerejas', 'Pêras'], ['Espinafre', 'Couve', 'Tomatos', 'Salsão', 'Batatas']]\n"
     ]
    }
   ],
   "source": [
    "# nested list\n",
    "fruits = [\"Morangos\", \"Nectarinas\", \"Maças\", \"Uvas\", \"Pêssegos\", \"Cerejas\", \"Pêras\"]\n",
    "vegetables = [\"Espinafre\", \"Couve\", \"Tomatos\", \"Salsão\", \"Batatas\"]\n",
    "\n",
    "dirty_dozen = [fruits, vegetables]\n",
    "print(dirty_dozen)"
   ]
  },
  {
   "cell_type": "code",
   "execution_count": 32,
   "metadata": {},
   "outputs": [
    {
     "name": "stdout",
     "output_type": "stream",
     "text": [
      "['◽', '◽', '◽']\n",
      "['◽', '◽', '◽']\n",
      "['◽', '◽', '◽']\n",
      "Here is the location of the treasure\n",
      "['◽', '◽', '◾']\n",
      "['◽', '◽', '◽']\n",
      "['◽', '◽', '◽']\n"
     ]
    }
   ],
   "source": [
    "row1 = [\"◽\", \"◽\", \"◽\"]\n",
    "row2 = [\"◽\", \"◽\", \"◽\"]\n",
    "row3 = [\"◽\", \"◽\", \"◽\"]\n",
    "map = [row1, row2, row3]\n",
    "print(f'{row1}\\n{row2}\\n{row3}' )\n",
    "\n",
    "position = list(input(\"Where do you want to put the treasure? \"))\n",
    "print(\"Here is the location of the treasure\")\n",
    "position_int = list(position)\n",
    "column = int(position_int[0]) - 1\n",
    "row = int(position_int[1]) - 1\n",
    "map[row][column] = \"◾\"\n",
    "\n",
    "print(f'{row1}\\n{row2}\\n{row3}' )"
   ]
  }
 ],
 "metadata": {
  "interpreter": {
   "hash": "369f2c481f4da34e4445cda3fffd2e751bd1c4d706f27375911949ba6bb62e1c"
  },
  "kernelspec": {
   "display_name": "Python 3.10.4 64-bit",
   "language": "python",
   "name": "python3"
  },
  "language_info": {
   "codemirror_mode": {
    "name": "ipython",
    "version": 3
   },
   "file_extension": ".py",
   "mimetype": "text/x-python",
   "name": "python",
   "nbconvert_exporter": "python",
   "pygments_lexer": "ipython3",
   "version": "3.10.4"
  },
  "orig_nbformat": 4
 },
 "nbformat": 4,
 "nbformat_minor": 2
}
